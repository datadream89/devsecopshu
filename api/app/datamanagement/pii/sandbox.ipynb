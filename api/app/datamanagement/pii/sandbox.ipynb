{
 "cells": [
  {
   "cell_type": "code",
   "execution_count": 2,
   "metadata": {},
   "outputs": [],
   "source": [
    "import heapq\n",
    "import json"
   ]
  },
  {
   "cell_type": "code",
   "execution_count": 3,
   "metadata": {
    "tags": []
   },
   "outputs": [],
   "source": [
    "with open('pii_json.json') as fin:\n",
    "    pairs = json.load(fin)"
   ]
  },
  {
   "cell_type": "code",
   "execution_count": 4,
   "metadata": {},
   "outputs": [
    {
     "output_type": "execute_result",
     "data": {
      "text/plain": "{'address': 'street_addresses',\n 'city': 'GPE',\n 'company_name': 'PERSON',\n 'county': 'GPE',\n 'email': 'emails',\n 'first_name': 'PERSON',\n 'last_name': 'ORG',\n 'phone1': 'phones',\n 'phone2': 'phones',\n 'state': 'ORG',\n 'web': 'links',\n 'zip': 'zip_codes'}"
     },
     "metadata": {},
     "execution_count": 4
    }
   ],
   "source": [
    "{a:max(b, key=b.get) for a,b in pairs.items()}"
   ]
  },
  {
   "cell_type": "code",
   "execution_count": null,
   "metadata": {},
   "outputs": [],
   "source": [
    "{a:max(b, key=b.get) for a,b in pairs.items()}"
   ]
  },
  {
   "cell_type": "code",
   "execution_count": 49,
   "metadata": {},
   "outputs": [],
   "source": [
    "n=1\n",
    "TwoHighest = {a:heapq.nlargest(n, b, key = b.get) for a,b in pairs.items()}"
   ]
  },
  {
   "cell_type": "code",
   "execution_count": 50,
   "metadata": {},
   "outputs": [],
   "source": [
    "from collections import defaultdict\n",
    "def_dict = defaultdict(list)\n",
    "\n",
    "for key, vals in TwoHighest.items():\n",
    "    for val in vals:\n",
    "        def_dict[key].append({val:pairs[key][val]})"
   ]
  },
  {
   "cell_type": "code",
   "execution_count": 51,
   "metadata": {
    "tags": []
   },
   "outputs": [
    {
     "output_type": "execute_result",
     "data": {
      "text/plain": "defaultdict(list,\n            {'address': [{'street_addresses': 0.992}],\n             'city': [{'GPE': 0.36666666666666664}],\n             'company_name': [{'PERSON': 0.5}],\n             'county': [{'GPE': 0.3}],\n             'email': [{'emails': 1.0}],\n             'first_name': [{'PERSON': 0.2}],\n             'last_name': [{'ORG': 0.16666666666666666}],\n             'phone1': [{'phones': 1.0}],\n             'phone2': [{'phones': 1.0}],\n             'state': [{'ORG': 0.16666666666666666}],\n             'web': [{'links': 1.0}],\n             'zip': [{'zip_codes': 0.844}]})"
     },
     "metadata": {},
     "execution_count": 51
    }
   ],
   "source": [
    "def_dict"
   ]
  },
  {
   "cell_type": "code",
   "execution_count": 52,
   "metadata": {},
   "outputs": [
    {
     "output_type": "execute_result",
     "data": {
      "text/plain": "{'address': 'street_addresses',\n 'city': 'GPE',\n 'company_name': 'PERSON',\n 'county': 'GPE',\n 'email': 'emails',\n 'first_name': 'PERSON',\n 'last_name': 'ORG',\n 'phone1': 'phones',\n 'phone2': 'phones',\n 'state': 'ORG',\n 'web': 'links',\n 'zip': 'zip_codes'}"
     },
     "metadata": {},
     "execution_count": 52
    }
   ],
   "source": [
    "{a:max(b, key=b.get) for a,b in pairs.items()}"
   ]
  },
  {
   "cell_type": "code",
   "execution_count": 53,
   "metadata": {
    "tags": []
   },
   "outputs": [
    {
     "output_type": "execute_result",
     "data": {
      "text/plain": "defaultdict(dict,\n            {'address': {'street_addresses': 0.992},\n             'city': {'GPE': 0.36666666666666664},\n             'company_name': {'PERSON': 0.5},\n             'county': {'GPE': 0.3},\n             'email': {'emails': 1.0},\n             'first_name': {'PERSON': 0.2},\n             'last_name': {'ORG': 0.16666666666666666},\n             'phone1': {'phones': 1.0},\n             'phone2': {'phones': 1.0},\n             'state': {'ORG': 0.16666666666666666},\n             'web': {'links': 1.0},\n             'zip': {'zip_codes': 0.844}})"
     },
     "metadata": {},
     "execution_count": 53
    }
   ],
   "source": [
    "def_dic = defaultdict(dict)\n",
    "for key, vals in TwoHighest.items():\n",
    "    for val in vals:\n",
    "        def_dic[key][val] = pairs[key][val]\n",
    "\n",
    "def_dic"
   ]
  },
  {
   "cell_type": "code",
   "execution_count": null,
   "metadata": {},
   "outputs": [],
   "source": []
  }
 ],
 "metadata": {
  "language_info": {
   "codemirror_mode": {
    "name": "ipython",
    "version": 3
   },
   "file_extension": ".py",
   "mimetype": "text/x-python",
   "name": "python",
   "nbconvert_exporter": "python",
   "pygments_lexer": "ipython3",
   "version": "3.7.7-final"
  },
  "orig_nbformat": 2,
  "kernelspec": {
   "name": "python37764bitomegaapp3conda1274072e24d846a591fa58c4deea8646",
   "display_name": "Python 3.7.7 64-bit ('omegaapp3': conda)"
  }
 },
 "nbformat": 4,
 "nbformat_minor": 2
}